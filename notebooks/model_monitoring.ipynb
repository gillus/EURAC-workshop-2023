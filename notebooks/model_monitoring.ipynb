{
 "cells": [
  {
   "cell_type": "code",
   "execution_count": 1,
   "id": "c343c9b6",
   "metadata": {},
   "outputs": [],
   "source": [
    "from catboost import CatBoostClassifier\n",
    "import pandas as pd\n",
    "import numpy as np\n",
    "from sklearn.metrics import classification_report\n",
    "from deepchecks.tabular import Dataset\n",
    "from deepchecks.tabular.suites import train_test_validation\n",
    "from deepchecks.tabular.suites import model_evaluation\n",
    "\n"
   ]
  },
  {
   "cell_type": "code",
   "execution_count": 3,
   "id": "4f0bb5f8",
   "metadata": {},
   "outputs": [],
   "source": [
    "Xtrain = pd.read_csv('../train.csv')\n",
    "Xtest = pd.read_csv('../holdout.csv')"
   ]
  },
  {
   "cell_type": "code",
   "execution_count": 4,
   "id": "ed39604f",
   "metadata": {},
   "outputs": [],
   "source": [
    "Xtest.index = max(Xtrain.index)+1+np.arange(Xtest.shape[0])"
   ]
  },
  {
   "cell_type": "code",
   "execution_count": 5,
   "id": "bc507f7c",
   "metadata": {},
   "outputs": [
    {
     "data": {
      "text/html": [
       "<div>\n",
       "<style scoped>\n",
       "    .dataframe tbody tr th:only-of-type {\n",
       "        vertical-align: middle;\n",
       "    }\n",
       "\n",
       "    .dataframe tbody tr th {\n",
       "        vertical-align: top;\n",
       "    }\n",
       "\n",
       "    .dataframe thead th {\n",
       "        text-align: right;\n",
       "    }\n",
       "</style>\n",
       "<table border=\"1\" class=\"dataframe\">\n",
       "  <thead>\n",
       "    <tr style=\"text-align: right;\">\n",
       "      <th></th>\n",
       "      <th>age</th>\n",
       "      <th>work_class</th>\n",
       "      <th>education</th>\n",
       "      <th>marital_status</th>\n",
       "      <th>occupation</th>\n",
       "      <th>relationship</th>\n",
       "      <th>race</th>\n",
       "      <th>sex</th>\n",
       "      <th>capital_gain</th>\n",
       "      <th>capital_loss</th>\n",
       "      <th>hours_per_week</th>\n",
       "      <th>native_country</th>\n",
       "      <th>income</th>\n",
       "    </tr>\n",
       "  </thead>\n",
       "  <tbody>\n",
       "    <tr>\n",
       "      <th>17371</th>\n",
       "      <td>41</td>\n",
       "      <td>Private</td>\n",
       "      <td>High School grad</td>\n",
       "      <td>Separated</td>\n",
       "      <td>Service</td>\n",
       "      <td>Unmarried</td>\n",
       "      <td>White</td>\n",
       "      <td>Female</td>\n",
       "      <td>0.0</td>\n",
       "      <td>0.0</td>\n",
       "      <td>40.0</td>\n",
       "      <td>United-States</td>\n",
       "      <td>&lt;=50K</td>\n",
       "    </tr>\n",
       "    <tr>\n",
       "      <th>17372</th>\n",
       "      <td>44</td>\n",
       "      <td>Private</td>\n",
       "      <td>Masters</td>\n",
       "      <td>Never-Married</td>\n",
       "      <td>Professional</td>\n",
       "      <td>Not-in-family</td>\n",
       "      <td>Asian-Pac-Islander</td>\n",
       "      <td>Female</td>\n",
       "      <td>0.0</td>\n",
       "      <td>0.0</td>\n",
       "      <td>40.0</td>\n",
       "      <td>SE-Asia</td>\n",
       "      <td>&lt;=50K</td>\n",
       "    </tr>\n",
       "    <tr>\n",
       "      <th>17373</th>\n",
       "      <td>53</td>\n",
       "      <td>Self-emp-inc</td>\n",
       "      <td>Doctorate</td>\n",
       "      <td>Separated</td>\n",
       "      <td>White-Collar</td>\n",
       "      <td>Not-in-family</td>\n",
       "      <td>White</td>\n",
       "      <td>Male</td>\n",
       "      <td>0.0</td>\n",
       "      <td>0.0</td>\n",
       "      <td>60.0</td>\n",
       "      <td>United-States</td>\n",
       "      <td>&gt;50K</td>\n",
       "    </tr>\n",
       "    <tr>\n",
       "      <th>17374</th>\n",
       "      <td>46</td>\n",
       "      <td>Self-emp-not-inc</td>\n",
       "      <td>Bachelors</td>\n",
       "      <td>Never-Married</td>\n",
       "      <td>Blue-Collar</td>\n",
       "      <td>Not-in-family</td>\n",
       "      <td>White</td>\n",
       "      <td>Female</td>\n",
       "      <td>0.0</td>\n",
       "      <td>0.0</td>\n",
       "      <td>40.0</td>\n",
       "      <td>United-States</td>\n",
       "      <td>&lt;=50K</td>\n",
       "    </tr>\n",
       "    <tr>\n",
       "      <th>17375</th>\n",
       "      <td>35</td>\n",
       "      <td>Private</td>\n",
       "      <td>High School grad</td>\n",
       "      <td>Never-Married</td>\n",
       "      <td>Blue-Collar</td>\n",
       "      <td>Unmarried</td>\n",
       "      <td>White</td>\n",
       "      <td>Male</td>\n",
       "      <td>0.0</td>\n",
       "      <td>0.0</td>\n",
       "      <td>40.0</td>\n",
       "      <td>United-States</td>\n",
       "      <td>&lt;=50K</td>\n",
       "    </tr>\n",
       "    <tr>\n",
       "      <th>...</th>\n",
       "      <td>...</td>\n",
       "      <td>...</td>\n",
       "      <td>...</td>\n",
       "      <td>...</td>\n",
       "      <td>...</td>\n",
       "      <td>...</td>\n",
       "      <td>...</td>\n",
       "      <td>...</td>\n",
       "      <td>...</td>\n",
       "      <td>...</td>\n",
       "      <td>...</td>\n",
       "      <td>...</td>\n",
       "      <td>...</td>\n",
       "    </tr>\n",
       "    <tr>\n",
       "      <th>26414</th>\n",
       "      <td>32</td>\n",
       "      <td>Private</td>\n",
       "      <td>Bachelors</td>\n",
       "      <td>Never-Married</td>\n",
       "      <td>Sales</td>\n",
       "      <td>Own-child</td>\n",
       "      <td>White</td>\n",
       "      <td>Male</td>\n",
       "      <td>13550.0</td>\n",
       "      <td>0.0</td>\n",
       "      <td>35.0</td>\n",
       "      <td>United-States</td>\n",
       "      <td>&gt;50K</td>\n",
       "    </tr>\n",
       "    <tr>\n",
       "      <th>26415</th>\n",
       "      <td>35</td>\n",
       "      <td>Private</td>\n",
       "      <td>Bachelors</td>\n",
       "      <td>Married</td>\n",
       "      <td>Sales</td>\n",
       "      <td>Husband</td>\n",
       "      <td>White</td>\n",
       "      <td>Male</td>\n",
       "      <td>7298.0</td>\n",
       "      <td>0.0</td>\n",
       "      <td>48.0</td>\n",
       "      <td>United-States</td>\n",
       "      <td>&gt;50K</td>\n",
       "    </tr>\n",
       "    <tr>\n",
       "      <th>26416</th>\n",
       "      <td>42</td>\n",
       "      <td>Private</td>\n",
       "      <td>High School grad</td>\n",
       "      <td>Married</td>\n",
       "      <td>Admin</td>\n",
       "      <td>Wife</td>\n",
       "      <td>White</td>\n",
       "      <td>Female</td>\n",
       "      <td>0.0</td>\n",
       "      <td>0.0</td>\n",
       "      <td>36.0</td>\n",
       "      <td>United-States</td>\n",
       "      <td>&gt;50K</td>\n",
       "    </tr>\n",
       "    <tr>\n",
       "      <th>26417</th>\n",
       "      <td>41</td>\n",
       "      <td>Private</td>\n",
       "      <td>Bachelors</td>\n",
       "      <td>Separated</td>\n",
       "      <td>Admin</td>\n",
       "      <td>Unmarried</td>\n",
       "      <td>White</td>\n",
       "      <td>Female</td>\n",
       "      <td>0.0</td>\n",
       "      <td>0.0</td>\n",
       "      <td>33.0</td>\n",
       "      <td>United-States</td>\n",
       "      <td>&lt;=50K</td>\n",
       "    </tr>\n",
       "    <tr>\n",
       "      <th>26418</th>\n",
       "      <td>12</td>\n",
       "      <td>State-gov</td>\n",
       "      <td>Bachelors</td>\n",
       "      <td>Married</td>\n",
       "      <td>White-Collar</td>\n",
       "      <td>Husband</td>\n",
       "      <td>White</td>\n",
       "      <td>Male</td>\n",
       "      <td>0.0</td>\n",
       "      <td>1902.0</td>\n",
       "      <td>40.0</td>\n",
       "      <td>United-States</td>\n",
       "      <td>&gt;50K</td>\n",
       "    </tr>\n",
       "  </tbody>\n",
       "</table>\n",
       "<p>9048 rows × 13 columns</p>\n",
       "</div>"
      ],
      "text/plain": [
       "       age        work_class         education marital_status    occupation  \\\n",
       "17371   41           Private  High School grad      Separated       Service   \n",
       "17372   44           Private           Masters  Never-Married  Professional   \n",
       "17373   53      Self-emp-inc         Doctorate      Separated  White-Collar   \n",
       "17374   46  Self-emp-not-inc         Bachelors  Never-Married   Blue-Collar   \n",
       "17375   35           Private  High School grad  Never-Married   Blue-Collar   \n",
       "...    ...               ...               ...            ...           ...   \n",
       "26414   32           Private         Bachelors  Never-Married         Sales   \n",
       "26415   35           Private         Bachelors        Married         Sales   \n",
       "26416   42           Private  High School grad        Married         Admin   \n",
       "26417   41           Private         Bachelors      Separated         Admin   \n",
       "26418   12         State-gov         Bachelors        Married  White-Collar   \n",
       "\n",
       "        relationship                race     sex  capital_gain  capital_loss  \\\n",
       "17371      Unmarried               White  Female           0.0           0.0   \n",
       "17372  Not-in-family  Asian-Pac-Islander  Female           0.0           0.0   \n",
       "17373  Not-in-family               White    Male           0.0           0.0   \n",
       "17374  Not-in-family               White  Female           0.0           0.0   \n",
       "17375      Unmarried               White    Male           0.0           0.0   \n",
       "...              ...                 ...     ...           ...           ...   \n",
       "26414      Own-child               White    Male       13550.0           0.0   \n",
       "26415        Husband               White    Male        7298.0           0.0   \n",
       "26416           Wife               White  Female           0.0           0.0   \n",
       "26417      Unmarried               White  Female           0.0           0.0   \n",
       "26418        Husband               White    Male           0.0        1902.0   \n",
       "\n",
       "       hours_per_week native_country income  \n",
       "17371            40.0  United-States  <=50K  \n",
       "17372            40.0        SE-Asia  <=50K  \n",
       "17373            60.0  United-States   >50K  \n",
       "17374            40.0  United-States  <=50K  \n",
       "17375            40.0  United-States  <=50K  \n",
       "...               ...            ...    ...  \n",
       "26414            35.0  United-States   >50K  \n",
       "26415            48.0  United-States   >50K  \n",
       "26416            36.0  United-States   >50K  \n",
       "26417            33.0  United-States  <=50K  \n",
       "26418            40.0  United-States   >50K  \n",
       "\n",
       "[9048 rows x 13 columns]"
      ]
     },
     "execution_count": 5,
     "metadata": {},
     "output_type": "execute_result"
    }
   ],
   "source": [
    "Xtest"
   ]
  },
  {
   "cell_type": "code",
   "execution_count": 6,
   "id": "e819dea3",
   "metadata": {},
   "outputs": [
    {
     "data": {
      "text/plain": [
       "['work_class',\n",
       " 'education',\n",
       " 'marital_status',\n",
       " 'occupation',\n",
       " 'relationship',\n",
       " 'race',\n",
       " 'sex',\n",
       " 'native_country',\n",
       " 'income']"
      ]
     },
     "execution_count": 6,
     "metadata": {},
     "output_type": "execute_result"
    }
   ],
   "source": [
    "cat_feat = [i for i in Xtrain.columns if Xtrain[i].dtype=='object']\n",
    "cat_feat"
   ]
  },
  {
   "cell_type": "code",
   "execution_count": 7,
   "id": "b9c7b47a",
   "metadata": {},
   "outputs": [],
   "source": [
    "cat_feat.remove('income')\n",
    "clf = CatBoostClassifier(cat_features=cat_feat, \n",
    "                         n_estimators=100, \n",
    "                         verbose=False).fit(Xtrain.drop(['income'],axis=1),\n",
    "                                            Xtrain['income'])"
   ]
  },
  {
   "cell_type": "code",
   "execution_count": 8,
   "id": "bf6e76ab",
   "metadata": {},
   "outputs": [
    {
     "name": "stdout",
     "output_type": "stream",
     "text": [
      "              precision    recall  f1-score   support\n",
      "\n",
      "       <=50K       0.89      0.94      0.91      6833\n",
      "        >50K       0.77      0.64      0.70      2215\n",
      "\n",
      "    accuracy                           0.86      9048\n",
      "   macro avg       0.83      0.79      0.81      9048\n",
      "weighted avg       0.86      0.86      0.86      9048\n",
      "\n"
     ]
    }
   ],
   "source": [
    "print(classification_report(Xtest['income'],clf.predict(Xtest.drop(['income'],axis=1))))"
   ]
  },
  {
   "cell_type": "code",
   "execution_count": 9,
   "id": "17ead80d",
   "metadata": {},
   "outputs": [],
   "source": [
    "train_ds1 = Dataset(Xtrain, label='income',cat_features=cat_feat, set_index_from_dataframe_index=True)\n",
    "test_ds1 = Dataset(Xtest, label='income',cat_features=cat_feat, set_index_from_dataframe_index=True)"
   ]
  },
  {
   "cell_type": "code",
   "execution_count": 10,
   "id": "535028b7",
   "metadata": {},
   "outputs": [
    {
     "data": {
      "text/html": [
       "\n",
       "    <style>\n",
       "        progress {\n",
       "            -webkit-appearance: none;\n",
       "            border: none;\n",
       "            border-radius: 3px;\n",
       "            width: 300px;\n",
       "            height: 20px;\n",
       "            vertical-align: middle;\n",
       "            margin-right: 10px;\n",
       "            background-color: aliceblue;\n",
       "        }\n",
       "        progress::-webkit-progress-bar {\n",
       "            border-radius: 3px;\n",
       "            background-color: aliceblue;\n",
       "        }\n",
       "        progress::-webkit-progress-value {\n",
       "            background-color: #9d60fb;\n",
       "        }\n",
       "        progress::-moz-progress-bar {\n",
       "            background-color: #9d60fb;\n",
       "        }\n",
       "    </style>\n",
       "    "
      ]
     },
     "metadata": {},
     "output_type": "display_data"
    },
    {
     "data": {
      "text/html": []
     },
     "metadata": {},
     "output_type": "display_data"
    }
   ],
   "source": [
    "validation_suite1 = train_test_validation()\n",
    "suite_result1 = validation_suite1.run(train_ds1, test_ds1)\n"
   ]
  },
  {
   "cell_type": "code",
   "execution_count": 11,
   "id": "9cc6d392",
   "metadata": {},
   "outputs": [
    {
     "data": {
      "application/vnd.jupyter.widget-view+json": {
       "model_id": "fb722bf948de44a982547bd06b738e0e",
       "version_major": 2,
       "version_minor": 0
      },
      "text/plain": [
       "Accordion(children=(VBox(children=(HTML(value='\\n<h1 id=\"summary_7H4AC0EAJUONY1LNRTC4CQH07\">Train Test Validat…"
      ]
     },
     "metadata": {},
     "output_type": "display_data"
    }
   ],
   "source": [
    "suite_result1"
   ]
  },
  {
   "cell_type": "code",
   "execution_count": 12,
   "id": "0205d64d",
   "metadata": {},
   "outputs": [
    {
     "data": {
      "text/plain": [
       "'report.html'"
      ]
     },
     "execution_count": 12,
     "metadata": {},
     "output_type": "execute_result"
    }
   ],
   "source": [
    "suite_result1.save_as_html('report.html')"
   ]
  },
  {
   "cell_type": "code",
   "execution_count": 13,
   "id": "9f358e48",
   "metadata": {},
   "outputs": [
    {
     "data": {
      "application/vnd.jupyter.widget-view+json": {
       "model_id": "be68fdfc9c114d0a95dbd91c2c5c9e47",
       "version_major": 2,
       "version_minor": 0
      },
      "text/plain": [
       "Accordion(children=(VBox(children=(HTML(value='\\n<h1 id=\"summary_7BXZ1BHCFTWJMGI98FEADAAB7\">Train Test Validat…"
      ]
     },
     "metadata": {},
     "output_type": "display_data"
    }
   ],
   "source": [
    "suite_result1.show()"
   ]
  },
  {
   "cell_type": "code",
   "execution_count": 14,
   "id": "40a45ace",
   "metadata": {},
   "outputs": [
    {
     "data": {
      "text/html": [
       "\n",
       "    <style>\n",
       "        progress {\n",
       "            -webkit-appearance: none;\n",
       "            border: none;\n",
       "            border-radius: 3px;\n",
       "            width: 300px;\n",
       "            height: 20px;\n",
       "            vertical-align: middle;\n",
       "            margin-right: 10px;\n",
       "            background-color: aliceblue;\n",
       "        }\n",
       "        progress::-webkit-progress-bar {\n",
       "            border-radius: 3px;\n",
       "            background-color: aliceblue;\n",
       "        }\n",
       "        progress::-webkit-progress-value {\n",
       "            background-color: #9d60fb;\n",
       "        }\n",
       "        progress::-moz-progress-bar {\n",
       "            background-color: #9d60fb;\n",
       "        }\n",
       "    </style>\n",
       "    "
      ]
     },
     "metadata": {},
     "output_type": "display_data"
    },
    {
     "data": {
      "text/html": []
     },
     "metadata": {},
     "output_type": "display_data"
    }
   ],
   "source": [
    "result1 = model_evaluation().run(train_dataset=train_ds1, test_dataset=test_ds1, model=clf)"
   ]
  },
  {
   "cell_type": "code",
   "execution_count": 15,
   "id": "f6b024ab",
   "metadata": {},
   "outputs": [
    {
     "data": {
      "application/vnd.jupyter.widget-view+json": {
       "model_id": "bb0df01897064686935d723f1c85e92b",
       "version_major": 2,
       "version_minor": 0
      },
      "text/plain": [
       "Accordion(children=(VBox(children=(HTML(value='\\n<h1 id=\"summary_NA68H9PHJPBG7C0BPY3QIWEJL\">Model Evaluation S…"
      ]
     },
     "metadata": {},
     "output_type": "display_data"
    }
   ],
   "source": [
    "result1.show()"
   ]
  },
  {
   "cell_type": "code",
   "execution_count": 20,
   "id": "1fd8d8a6",
   "metadata": {},
   "outputs": [
    {
     "data": {
      "text/plain": [
       "'model_report.html'"
      ]
     },
     "execution_count": 20,
     "metadata": {},
     "output_type": "execute_result"
    }
   ],
   "source": [
    "result1.save_as_html('model_report.html')"
   ]
  },
  {
   "cell_type": "code",
   "execution_count": null,
   "id": "a685b385",
   "metadata": {},
   "outputs": [],
   "source": []
  }
 ],
 "metadata": {
  "kernelspec": {
   "display_name": "Python 3 (ipykernel)",
   "language": "python",
   "name": "python3"
  },
  "language_info": {
   "codemirror_mode": {
    "name": "ipython",
    "version": 3
   },
   "file_extension": ".py",
   "mimetype": "text/x-python",
   "name": "python",
   "nbconvert_exporter": "python",
   "pygments_lexer": "ipython3",
   "version": "3.10.10"
  }
 },
 "nbformat": 4,
 "nbformat_minor": 5
}
